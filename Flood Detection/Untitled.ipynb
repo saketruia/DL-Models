{
 "cells": [
  {
   "cell_type": "code",
   "execution_count": 1,
   "id": "356427ba-4e3c-4ba4-88f4-5c6cf89f1294",
   "metadata": {},
   "outputs": [],
   "source": [
    "image_folder = \"C:\\\\sers\\\\SAKET\\\\OneDrive\\\\Desktop\\\\AIML\\\\DL-Models\\\\Flood Detection\\\\Flood_dataset\\\\Image\"\n",
    "mask_folder = \"C:\\\\Users\\\\SAKET\\\\OneDrive\\\\Desktop\\\\AIML\\\\DL-Models\\\\Flood Detection\\\\Flood_dataset\\\\Mask\"\n",
    "csv_file = \"C:\\\\Users\\\\SAKET\\\\OneDrive\\\\Desktop\\\\AIML\\\\DL-Models\\\\Flood Detection\\\\Flood_dataset\\\\metadata.csv\""
   ]
  },
  {
   "cell_type": "code",
   "execution_count": 5,
   "id": "cd476abb-93ce-4022-83ed-31581c4e5536",
   "metadata": {},
   "outputs": [],
   "source": [
    "import numpy as np\n",
    "import pandas as pd\n",
    "import tensorflow as tf\n",
    "import os\n",
    "import cv2\n",
    "import matplotlib.pyplot as plt\n",
    "from tensorflow.keras.utils import img_to_array\n",
    "from sklearn.model_selection import train_test_split"
   ]
  },
  {
   "cell_type": "code",
   "execution_count": null,
   "id": "5d818fa6-27c5-443a-9378-6fcb049e7ab5",
   "metadata": {},
   "outputs": [],
   "source": []
  }
 ],
 "metadata": {
  "kernelspec": {
   "display_name": "Python 3.12 (spacy)",
   "language": "python",
   "name": "python312"
  },
  "language_info": {
   "codemirror_mode": {
    "name": "ipython",
    "version": 3
   },
   "file_extension": ".py",
   "mimetype": "text/x-python",
   "name": "python",
   "nbconvert_exporter": "python",
   "pygments_lexer": "ipython3",
   "version": "3.12.8"
  }
 },
 "nbformat": 4,
 "nbformat_minor": 5
}
