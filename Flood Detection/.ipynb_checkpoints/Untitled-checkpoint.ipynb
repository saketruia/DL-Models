{
 "cells": [
  {
   "cell_type": "code",
   "execution_count": 20,
   "id": "356427ba-4e3c-4ba4-88f4-5c6cf89f1294",
   "metadata": {},
   "outputs": [],
   "source": [
    "image_folder = \"C:\\\\Users\\\\SAKET\\\\OneDrive\\\\Desktop\\\\AIML\\\\DL-Models\\\\Flood Detection\\\\Flood_dataset\\\\Image\\\\\"\n",
    "C:\\Users\\SAKET\\OneDrive\\Desktop\\AIML\\DL-Models\\Flood Detection\\Flood_dataset\\Image\n",
    "mask_folder = \"C:\\\\Users\\\\SAKET\\\\OneDrive\\\\Desktop\\\\AIML\\\\DL-Models\\\\Flood Detection\\\\Flood_dataset\\\\Mask\"\n",
    "csv_file = \"C:\\\\Users\\\\SAKET\\\\OneDrive\\\\Desktop\\\\AIML\\\\DL-Models\\\\Flood Detection\\\\Flood_dataset\\\\metadata.csv\""
   ]
  },
  {
   "cell_type": "code",
   "execution_count": 5,
   "id": "cd476abb-93ce-4022-83ed-31581c4e5536",
   "metadata": {},
   "outputs": [],
   "source": [
    "import numpy as np\n",
    "import pandas as pd\n",
    "import tensorflow as tf\n",
    "import os\n",
    "import cv2\n",
    "import matplotlib.pyplot as plt\n",
    "from tensorflow.keras.utils import img_to_array\n",
    "from sklearn.model_selection import train_test_split"
   ]
  },
  {
   "cell_type": "code",
   "execution_count": 6,
   "id": "5d818fa6-27c5-443a-9378-6fcb049e7ab5",
   "metadata": {},
   "outputs": [
    {
     "name": "stdout",
     "output_type": "stream",
     "text": [
      "   Image   Mask\n",
      "0  0.jpg  0.png\n",
      "1  1.jpg  1.png\n",
      "2  2.jpg  2.png\n",
      "3  3.jpg  3.png\n",
      "4  4.jpg  4.png\n"
     ]
    }
   ],
   "source": [
    "metadata = pd.read_csv(csv_file)\n",
    "print(metadata.head())"
   ]
  },
  {
   "cell_type": "code",
   "execution_count": 13,
   "id": "285d90e1-9ef7-4ed7-8648-30fd6fb42d34",
   "metadata": {},
   "outputs": [],
   "source": [
    "IMG_SIZE = 128  \n",
    "\n",
    "# Function to load images and masks\n",
    "def load_images(image_paths, folder, size=IMG_SIZE):\n",
    "    images = []\n",
    "    for img_name in image_paths:\n",
    "        img_path = os.path.join(folder, img_name)  # Create full image path\n",
    "        img = cv2.imread(img_path)  # Read image\n",
    "        img = cv2.resize(img, (size, size))  # Resize to (128,128)\n",
    "        img = img / 255.0  # Normalize pixel values (0-255 → 0-1)\n",
    "        images.append(img)\n",
    "    return np.array(images)"
   ]
  },
  {
   "cell_type": "code",
   "execution_count": 18,
   "id": "7975224b-68d0-4a1b-b8a1-ac072a8630a6",
   "metadata": {},
   "outputs": [
    {
     "ename": "error",
     "evalue": "OpenCV(4.11.0) D:\\a\\opencv-python\\opencv-python\\opencv\\modules\\imgproc\\src\\resize.cpp:4208: error: (-215:Assertion failed) !ssize.empty() in function 'cv::resize'\n",
     "output_type": "error",
     "traceback": [
      "\u001b[1;31m---------------------------------------------------------------------------\u001b[0m",
      "\u001b[1;31merror\u001b[0m                                     Traceback (most recent call last)",
      "Cell \u001b[1;32mIn[18], line 5\u001b[0m\n\u001b[0;32m      2\u001b[0m mask_paths \u001b[38;5;241m=\u001b[39m metadata[\u001b[38;5;124m'\u001b[39m\u001b[38;5;124mMask\u001b[39m\u001b[38;5;124m'\u001b[39m]\u001b[38;5;241m.\u001b[39mvalues\n\u001b[0;32m      4\u001b[0m \u001b[38;5;66;03m# Load images and masks\u001b[39;00m\n\u001b[1;32m----> 5\u001b[0m X \u001b[38;5;241m=\u001b[39m \u001b[43mload_images\u001b[49m\u001b[43m(\u001b[49m\u001b[43mimage_paths\u001b[49m\u001b[43m,\u001b[49m\u001b[43m \u001b[49m\u001b[43mimage_folder\u001b[49m\u001b[43m)\u001b[49m  \u001b[38;5;66;03m# Input images\u001b[39;00m\n\u001b[0;32m      6\u001b[0m Y \u001b[38;5;241m=\u001b[39m load_images(mask_paths, mask_folder)  \u001b[38;5;66;03m# Corresponding masks\u001b[39;00m\n\u001b[0;32m      8\u001b[0m \u001b[38;5;66;03m# Reshape masks to (128,128,1) for CNN compatibility\u001b[39;00m\n",
      "Cell \u001b[1;32mIn[13], line 9\u001b[0m, in \u001b[0;36mload_images\u001b[1;34m(image_paths, folder, size)\u001b[0m\n\u001b[0;32m      7\u001b[0m img_path \u001b[38;5;241m=\u001b[39m os\u001b[38;5;241m.\u001b[39mpath\u001b[38;5;241m.\u001b[39mjoin(folder, img_name)  \u001b[38;5;66;03m# Create full image path\u001b[39;00m\n\u001b[0;32m      8\u001b[0m img \u001b[38;5;241m=\u001b[39m cv2\u001b[38;5;241m.\u001b[39mimread(img_path)  \u001b[38;5;66;03m# Read image\u001b[39;00m\n\u001b[1;32m----> 9\u001b[0m img \u001b[38;5;241m=\u001b[39m \u001b[43mcv2\u001b[49m\u001b[38;5;241;43m.\u001b[39;49m\u001b[43mresize\u001b[49m\u001b[43m(\u001b[49m\u001b[43mimg\u001b[49m\u001b[43m,\u001b[49m\u001b[43m \u001b[49m\u001b[43m(\u001b[49m\u001b[43msize\u001b[49m\u001b[43m,\u001b[49m\u001b[43m \u001b[49m\u001b[43msize\u001b[49m\u001b[43m)\u001b[49m\u001b[43m)\u001b[49m  \u001b[38;5;66;03m# Resize to (128,128)\u001b[39;00m\n\u001b[0;32m     10\u001b[0m img \u001b[38;5;241m=\u001b[39m img \u001b[38;5;241m/\u001b[39m \u001b[38;5;241m255.0\u001b[39m  \u001b[38;5;66;03m# Normalize pixel values (0-255 → 0-1)\u001b[39;00m\n\u001b[0;32m     11\u001b[0m images\u001b[38;5;241m.\u001b[39mappend(img)\n",
      "\u001b[1;31merror\u001b[0m: OpenCV(4.11.0) D:\\a\\opencv-python\\opencv-python\\opencv\\modules\\imgproc\\src\\resize.cpp:4208: error: (-215:Assertion failed) !ssize.empty() in function 'cv::resize'\n"
     ]
    }
   ],
   "source": [
    "image_paths = metadata['Image'].values\n",
    "mask_paths = metadata['Mask'].values\n",
    "\n",
    "# Load images and masks\n",
    "X = load_images(image_paths, image_folder)  # Input images\n",
    "Y = load_images(mask_paths, mask_folder)  # Corresponding masks\n",
    "\n",
    "# Reshape masks to (128,128,1) for CNN compatibility\n",
    "Y = Y[:, :, :, 0:1]  "
   ]
  },
  {
   "cell_type": "code",
   "execution_count": 21,
   "id": "b2623439-4d96-461c-829d-0b929ef8c9b3",
   "metadata": {},
   "outputs": [
    {
     "name": "stdout",
     "output_type": "stream",
     "text": [
      "Loading image: C:\\Users\\SAKET\\OneDrive\\Desktop\\AIML\\DL-Models\\Flood Detection\\Flood_dataset\\Image\\\n",
      "Error: Image not found at C:\\Users\\SAKET\\OneDrive\\Desktop\\AIML\\DL-Models\\Flood Detection\\Flood_dataset\\Image\\\n"
     ]
    }
   ],
   "source": [
    "print(f\"Loading image: {image_folder}\")  \n",
    "img = cv2.imread(image_folder)  \n",
    "if img is None:\n",
    "    print(f\"Error: Image not found at {image_folder}\")\n"
   ]
  },
  {
   "cell_type": "code",
   "execution_count": null,
   "id": "1067e6ca-d4bf-4ebb-af77-a8f5d32d5237",
   "metadata": {},
   "outputs": [],
   "source": []
  }
 ],
 "metadata": {
  "kernelspec": {
   "display_name": "Python 3.12 (spacy)",
   "language": "python",
   "name": "python312"
  },
  "language_info": {
   "codemirror_mode": {
    "name": "ipython",
    "version": 3
   },
   "file_extension": ".py",
   "mimetype": "text/x-python",
   "name": "python",
   "nbconvert_exporter": "python",
   "pygments_lexer": "ipython3",
   "version": "3.12.8"
  }
 },
 "nbformat": 4,
 "nbformat_minor": 5
}
